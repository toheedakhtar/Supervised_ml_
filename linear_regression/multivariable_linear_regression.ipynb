{
 "cells": [
  {
   "cell_type": "markdown",
   "metadata": {},
   "source": [
    "not multivariate linear regresssion<br>"
   ]
  },
  {
   "cell_type": "markdown",
   "metadata": {},
   "source": [
    "#### linear regression = f<sub>w,b</sub>(x) = wx + b\n",
    "#### multivariable linear regression = f<sub>w,b</sub>(x) =  w.x + b = w<sub>1</sub>x<sub>1</sub> + w<sub>1</sub>x<sub>1</sub> + ... + w<sub>n</sub>x<sub>n</sub> + b"
   ]
  }
 ],
 "metadata": {
  "kernelspec": {
   "display_name": "Python 3",
   "language": "python",
   "name": "python3"
  },
  "language_info": {
   "name": "python",
   "version": "3.12.1"
  }
 },
 "nbformat": 4,
 "nbformat_minor": 2
}
